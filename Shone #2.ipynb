{
 "cells": [
  {
   "cell_type": "code",
   "execution_count": null,
   "metadata": {},
   "outputs": [],
   "source": [
    "#Wprawki do rozdziału drugiego Shone; dynamika popytu i podaży"
   ]
  },
  {
   "cell_type": "code",
   "execution_count": 1,
   "metadata": {},
   "outputs": [],
   "source": [
    "#warunki początkowe\n",
    "a = 0.05\n",
    "p = 5"
   ]
  },
  {
   "cell_type": "code",
   "execution_count": 6,
   "metadata": {},
   "outputs": [],
   "source": [
    "def model(t):\n",
    "    a = 0.1 #współczynnik dostosowania się cen\n",
    "    p0 = 5 #cena początkowa\n",
    "    qd_path = [] #tworzymy \n",
    "    qs_path = []\n",
    "    q_path = []\n",
    "    p_path = []\n",
    "    \n",
    "    qd = 20 - 4 * p0\n",
    "    qd_path.append(qd)\n",
    "    qs = 5 + 2 * p0\n",
    "    qs_path.append(qs)\n",
    "    q = min(qs, qd)\n",
    "    q_path.append(q)\n",
    "    p = p0\n",
    "    p_path.append(p)\n",
    "    \n",
    "    \n",
    "    \n",
    "    for t in range (0, t):\n",
    "        p = p_path[-1] + a * (qd_path[-1] - qs_path[-1])\n",
    "        p_path.append(p)\n",
    "        qd = 20 - 4 * p_path[-1]\n",
    "        qd_path.append(qd)\n",
    "        qs = 5 + 2 * p_path[-1]\n",
    "        qs_path.append(qs)\n",
    "        q = min(qs_path[-1], qd_path[-1])\n",
    "        q_path.append(q)\n",
    "    \n",
    "    import matplotlib.pyplot as plt\n",
    "    time_points = range(0,t+2)\n",
    "\n",
    "    fig, ax1 = plt.subplots()\n",
    "    color = 'tab:red'\n",
    "    ax1.set_xlabel('czas (s)')\n",
    "    ax1.set_ylabel('p(t)', color=color)\n",
    "    ax1.plot(time_points, p_path, color=color)\n",
    "    ax1.tick_params(axis='y', labelcolor=color)\n",
    "\n",
    "    ax2 = ax1.twinx()  # instantiate a second axes that shares the same x-axis\n",
    "\n",
    "    color = 'tab:blue'\n",
    "    ax2.set_ylabel('q(t)', color=color)  # we already handled the x-label with ax1\n",
    "    ax2.plot(time_points, q_path, color=color)\n",
    "    ax2.tick_params(axis='y', labelcolor=color)\n",
    "\n",
    "    fig.tight_layout()  # otherwise the right y-label is slightly clipped\n",
    "   \n",
    "    plt.show()"
   ]
  },
  {
   "cell_type": "code",
   "execution_count": 7,
   "metadata": {},
   "outputs": [
    {
     "data": {
      "image/png": "[encoded data removed]",
      "text/plain": [
       "<Figure size 432x288 with 2 Axes>"
      ]
     },
     "metadata": {
      "needs_background": "light"
     },
     "output_type": "display_data"
    }
   ],
   "source": [
    "model(50)"
   ]
  }
 ],
 "metadata": {
  "kernelspec": {
   "display_name": "Python 3",
   "language": "python",
   "name": "python3"
  },
  "language_info": {
   "codemirror_mode": {
    "name": "ipython",
    "version": 3
   },
   "file_extension": ".py",
   "mimetype": "text/x-python",
   "name": "python",
   "nbconvert_exporter": "python",
   "pygments_lexer": "ipython3",
   "version": "3.7.0"
  }
 },
 "nbformat": 4,
 "nbformat_minor": 2
}
